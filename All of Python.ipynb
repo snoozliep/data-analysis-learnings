{
 "cells": [
  {
   "cell_type": "code",
   "execution_count": 3,
   "id": "1dc11f7f-460b-48f2-b028-ac515d991c49",
   "metadata": {},
   "outputs": [
    {
     "name": "stdin",
     "output_type": "stream",
     "text": [
      "Enter radius:  34\n",
      "Enter height:  14\n"
     ]
    },
    {
     "name": "stdout",
     "output_type": "stream",
     "text": [
      "The volume of a cylinder with a radius of 34 and a height of 14 is 50843.54 cm^3.\n"
     ]
    }
   ],
   "source": [
    "import math\n",
    "\n",
    "radius = input(\"Enter radius: \")\n",
    "height = input(\"Enter height: \")\n",
    "volume = math.pi * int(radius)**2 * int(height)\n",
    "print(\"The volume of a cylinder with a radius of \" + str(radius) + \" and a height of \" + str(height) + \" is \" + str(round(volume, 2)) + \" cm^3.\" )\n"
   ]
  },
  {
   "cell_type": "code",
   "execution_count": 4,
   "id": "a9cb4a2b-c8fe-451d-90ed-7449b2eb74f3",
   "metadata": {},
   "outputs": [
    {
     "data": {
      "text/plain": [
       "True"
      ]
     },
     "execution_count": 4,
     "metadata": {},
     "output_type": "execute_result"
    }
   ],
   "source": [
    "x = 2\n",
    "y = 7\n",
    "not(not(x > 1)) and not (y > 14 or y > 10)\n"
   ]
  },
  {
   "cell_type": "code",
   "execution_count": null,
   "id": "d376fb1c-520f-4d58-8c84-b93215737286",
   "metadata": {},
   "outputs": [],
   "source": []
  },
  {
   "cell_type": "code",
   "execution_count": null,
   "id": "30d95d01-73d9-4bc9-bf5f-5fdd1ab7b9cb",
   "metadata": {},
   "outputs": [],
   "source": [
    "def func1() :\n",
    "    num = 2\n",
    "    print(num)\n",
    "\n",
    "def func2():\n",
    "    global num\n",
    "    double_num = num * 2\n",
    "    num = 7\n",
    "    print(double_num)\n",
    "\n",
    "    num = 5"
   ]
  },
  {
   "cell_type": "code",
   "execution_count": null,
   "id": "c57256fb-4ff7-4ecc-bdd2-839564ca4390",
   "metadata": {},
   "outputs": [],
   "source": [
    "func1()"
   ]
  },
  {
   "cell_type": "code",
   "execution_count": null,
   "id": "65bfc33e-cdf8-4ff1-9c21-17ee4e4f3474",
   "metadata": {},
   "outputs": [],
   "source": [
    "func2()"
   ]
  },
  {
   "cell_type": "code",
   "execution_count": null,
   "id": "10385cee-4e56-4242-b972-abf9802164d0",
   "metadata": {},
   "outputs": [],
   "source": [
    "def three words()\n",
    "string = !!!"
   ]
  },
  {
   "cell_type": "code",
   "execution_count": 37,
   "id": "1762c0ce-cf52-4d3f-8bd0-60f8ba73b220",
   "metadata": {},
   "outputs": [
    {
     "name": "stdin",
     "output_type": "stream",
     "text": [
      "Enter first word:  i\n",
      "Enter second word:  love\n",
      "Enter third word:  you\n"
     ]
    }
   ],
   "source": [
    "fword = input(\"Enter first word: \")\n",
    "sword = input(\"Enter second word: \")\n",
    "tword = input(\"Enter third word: \")\n",
    "\n",
    "def three_words(fword,sword,tword):\n",
    "        return fword + \"!!!\" + sword + \"!!!\" + tword + \"!!!\""
   ]
  },
  {
   "cell_type": "code",
   "execution_count": 38,
   "id": "e9428809-6bbb-44d4-accc-82034be6eb52",
   "metadata": {},
   "outputs": [
    {
     "data": {
      "text/plain": [
       "'i!!!love!!!you!!!'"
      ]
     },
     "execution_count": 38,
     "metadata": {},
     "output_type": "execute_result"
    }
   ],
   "source": [
    "three_words(fword,sword,tword)"
   ]
  },
  {
   "cell_type": "code",
   "execution_count": 1,
   "id": "a8f02419-df99-4f22-a924-7c42d23b8315",
   "metadata": {},
   "outputs": [
    {
     "data": {
      "text/plain": [
       "3"
      ]
     },
     "execution_count": 1,
     "metadata": {},
     "output_type": "execute_result"
    }
   ],
   "source": [
    "25 // 8\n"
   ]
  },
  {
   "cell_type": "code",
   "execution_count": 2,
   "id": "40496210-2a7b-4d65-8171-ad77439dd5f0",
   "metadata": {},
   "outputs": [
    {
     "name": "stdout",
     "output_type": "stream",
     "text": [
      "My name is Mercy.\n",
      "Welcome.\n",
      "Good day!\n"
     ]
    }
   ],
   "source": [
    "print(\"My name is Mercy.\"); print(\"Welcome.\")\n",
    "print(\"Good day!\")"
   ]
  },
  {
   "cell_type": "code",
   "execution_count": 3,
   "id": "790ea61b-5505-4fe2-8f69-0ba23ec664de",
   "metadata": {},
   "outputs": [
    {
     "name": "stdout",
     "output_type": "stream",
     "text": [
      "CBMES\n"
     ]
    }
   ],
   "source": [
    "print('CBMES')"
   ]
  },
  {
   "cell_type": "code",
   "execution_count": 5,
   "id": "188ea1ff-c076-48c6-b898-a089a8ec77e8",
   "metadata": {},
   "outputs": [
    {
     "name": "stdout",
     "output_type": "stream",
     "text": [
      "CBMES\n"
     ]
    }
   ],
   "source": [
    "print(\"CBMES\")"
   ]
  },
  {
   "cell_type": "code",
   "execution_count": 15,
   "id": "565977a7-3581-4d72-b387-4e9ef79a1236",
   "metadata": {},
   "outputs": [],
   "source": [
    "apples = 1\n",
    "oranges = 2\n",
    "grapes = 3\n",
    "int(apples)\n",
    "int(oranges)\n",
    "int(grapes)\n",
    "\n",
    "fruits = apples + oranges \\\n",
    "        + grapes"
   ]
  },
  {
   "cell_type": "code",
   "execution_count": 16,
   "id": "6fc8e082-8f56-4b5b-b9fc-9ef7241f4fb2",
   "metadata": {},
   "outputs": [
    {
     "name": "stdout",
     "output_type": "stream",
     "text": [
      "Hello\n"
     ]
    }
   ],
   "source": [
    "print(\"Hello\")"
   ]
  },
  {
   "cell_type": "code",
   "execution_count": 24,
   "id": "795492e0-deb8-417d-9a80-4cb0d9a911b1",
   "metadata": {},
   "outputs": [],
   "source": [
    "fruits = (apples + oranges \n",
    "\n",
    "         + grapes)"
   ]
  },
  {
   "cell_type": "code",
   "execution_count": 6,
   "id": "88dba6df-e041-41d1-b37d-a70f63ba323d",
   "metadata": {},
   "outputs": [
    {
     "ename": "NameError",
     "evalue": "name 'average' is not defined",
     "output_type": "error",
     "traceback": [
      "\u001b[1;31m---------------------------------------------------------------------------\u001b[0m",
      "\u001b[1;31mNameError\u001b[0m                                 Traceback (most recent call last)",
      "Input \u001b[1;32mIn [6]\u001b[0m, in \u001b[0;36m<cell line: 3>\u001b[1;34m()\u001b[0m\n\u001b[0;32m      1\u001b[0m p \u001b[38;5;241m=\u001b[39m \u001b[38;5;241m8.32730\u001b[39m\n\u001b[1;32m----> 3\u001b[0m \u001b[38;5;28mprint\u001b[39m(\u001b[43maverage\u001b[49m(p))\n",
      "\u001b[1;31mNameError\u001b[0m: name 'average' is not defined"
     ]
    }
   ],
   "source": [
    "p = 8.32730\n",
    "\n",
    "print(average(p))"
   ]
  },
  {
   "cell_type": "code",
   "execution_count": 35,
   "id": "e88bb55b-2990-4120-8829-beea1e761eb7",
   "metadata": {},
   "outputs": [
    {
     "name": "stdout",
     "output_type": "stream",
     "text": [
      "MAPUA U\n"
     ]
    }
   ],
   "source": [
    "x = \"MAPUA UNIVERSITY\"\n",
    "print(x[:7])"
   ]
  },
  {
   "cell_type": "code",
   "execution_count": 5,
   "id": "bf794608-0b0b-40e8-86ff-c82545f08109",
   "metadata": {},
   "outputs": [
    {
     "ename": "KeyError",
     "evalue": "-1",
     "output_type": "error",
     "traceback": [
      "\u001b[1;31m---------------------------------------------------------------------------\u001b[0m",
      "\u001b[1;31mKeyError\u001b[0m                                  Traceback (most recent call last)",
      "Input \u001b[1;32mIn [5]\u001b[0m, in \u001b[0;36m<cell line: 5>\u001b[1;34m()\u001b[0m\n\u001b[0;32m      1\u001b[0m asia \u001b[38;5;241m=\u001b[39m {\u001b[38;5;124m'\u001b[39m\u001b[38;5;124mmalaysia\u001b[39m\u001b[38;5;124m'\u001b[39m:\u001b[38;5;124m'\u001b[39m\u001b[38;5;124mkuala_lumpur\u001b[39m\u001b[38;5;124m'\u001b[39m, \u001b[38;5;124m'\u001b[39m\u001b[38;5;124mphilippines\u001b[39m\u001b[38;5;124m'\u001b[39m:\u001b[38;5;124m'\u001b[39m\u001b[38;5;124mmanila\u001b[39m\u001b[38;5;124m'\u001b[39m,\n\u001b[0;32m      2\u001b[0m \n\u001b[0;32m      3\u001b[0m         \u001b[38;5;124m'\u001b[39m\u001b[38;5;124msingapore\u001b[39m\u001b[38;5;124m'\u001b[39m:\u001b[38;5;124m'\u001b[39m\u001b[38;5;124msingapore\u001b[39m\u001b[38;5;124m'\u001b[39m, \u001b[38;5;124m'\u001b[39m\u001b[38;5;124mthailand\u001b[39m\u001b[38;5;124m'\u001b[39m:\u001b[38;5;124m'\u001b[39m\u001b[38;5;124mbangkok\u001b[39m\u001b[38;5;124m'\u001b[39m}\n\u001b[1;32m----> 5\u001b[0m \u001b[38;5;28mprint\u001b[39m(\u001b[43masia\u001b[49m\u001b[43m[\u001b[49m\u001b[38;5;241;43m-\u001b[39;49m\u001b[38;5;241;43m1\u001b[39;49m\u001b[43m]\u001b[49m)\n",
      "\u001b[1;31mKeyError\u001b[0m: -1"
     ]
    }
   ],
   "source": [
    "asia = {'malaysia':'kuala_lumpur', 'philippines':'manila',\n",
    "\n",
    "        'singapore':'singapore', 'thailand':'bangkok'}\n",
    "\n",
    "print(asia[-1])"
   ]
  },
  {
   "cell_type": "code",
   "execution_count": 44,
   "id": "c6130b0e-626f-4f64-8885-999de2cb12dd",
   "metadata": {},
   "outputs": [
    {
     "name": "stdout",
     "output_type": "stream",
     "text": [
      "17\n"
     ]
    }
   ],
   "source": [
    "q = [17, 25, 42, 35, 47, 45]\n",
    "\n",
    "print(min(q))"
   ]
  },
  {
   "cell_type": "code",
   "execution_count": 2,
   "id": "44456240-8ad0-41d5-9606-5309715ab198",
   "metadata": {},
   "outputs": [
    {
     "name": "stdout",
     "output_type": "stream",
     "text": [
      "hello world\n"
     ]
    }
   ],
   "source": [
    "print(\"hello world\")"
   ]
  },
  {
   "cell_type": "markdown",
   "id": "97e92175-1071-4665-8f62-f5ad2bbda041",
   "metadata": {},
   "source": [
    "name = input(\"Name: \")"
   ]
  },
  {
   "cell_type": "code",
   "execution_count": 23,
   "id": "804ef12e-bcd4-45ca-a962-a4ffeaa053a5",
   "metadata": {},
   "outputs": [
    {
     "name": "stdin",
     "output_type": "stream",
     "text": [
      "Name:  Hello\n"
     ]
    },
    {
     "name": "stdout",
     "output_type": "stream",
     "text": [
      "Hello, Hello.\n",
      "Hello, Hello.\n",
      "Hello, Hello.\n",
      "Access Denied\n"
     ]
    }
   ],
   "source": [
    "name = input(\"Name: \")\n",
    "print(\"Hello, %s.\" % name)\n",
    "print(\"Hello, \" + name + \".\")\n",
    "print(\"Hello, {}.\".format (name))\n",
    "\n",
    "if name == \"Mary\":\n",
    "    print(\"Welcome, \" + name + \".\")\n",
    "else:\n",
    "    print(\"Access Denied\")\n"
   ]
  },
  {
   "cell_type": "code",
   "execution_count": 33,
   "id": "fcd233ee-f78f-4579-9415-b70c3b3a3507",
   "metadata": {},
   "outputs": [
    {
     "name": "stdin",
     "output_type": "stream",
     "text": [
      "String 1:  345\n",
      "String 2:  45\n",
      "Num 1:  23\n",
      "Num 2:  234\n"
     ]
    },
    {
     "name": "stdout",
     "output_type": "stream",
     "text": [
      "Total Number is:  257\n",
      "Combined: 34545\n"
     ]
    }
   ],
   "source": [
    "string1 = input(\"String 1: \")\n",
    "string2 = input(\"String 2: \")\n",
    "\n",
    "num1 = int(input(\"Num 1: \"))\n",
    "num2 = int(input(\"Num 2: \"))\n",
    "\n",
    "total = num1 + num2\n",
    "string = string1 + string2\n",
    "\n",
    "print(\"Total Number is: \", total)\n",
    "print(\"Combined: \" + string)\n"
   ]
  },
  {
   "cell_type": "code",
   "execution_count": 41,
   "id": "0ea40547-8b0b-43ef-a1eb-b50a4d43d441",
   "metadata": {},
   "outputs": [
    {
     "ename": "OSError",
     "evalue": "MNIST.csv not found.",
     "output_type": "error",
     "traceback": [
      "\u001b[1;31m---------------------------------------------------------------------------\u001b[0m",
      "\u001b[1;31mOSError\u001b[0m                                   Traceback (most recent call last)",
      "Input \u001b[1;32mIn [41]\u001b[0m, in \u001b[0;36m<cell line: 14>\u001b[1;34m()\u001b[0m\n\u001b[0;32m      1\u001b[0m \u001b[38;5;66;03m# file = open('harry_potter.txt', 'r')\u001b[39;00m\n\u001b[0;32m      2\u001b[0m \u001b[38;5;66;03m# print(file.read())\u001b[39;00m\n\u001b[0;32m      3\u001b[0m \u001b[38;5;66;03m# file.close\u001b[39;00m\n\u001b[1;32m   (...)\u001b[0m\n\u001b[0;32m      9\u001b[0m \u001b[38;5;66;03m# usecols = [index, index] select specific parts\u001b[39;00m\n\u001b[0;32m     10\u001b[0m \u001b[38;5;66;03m# dtype = data_type to specify data type\u001b[39;00m\n\u001b[0;32m     12\u001b[0m \u001b[38;5;28;01mimport\u001b[39;00m \u001b[38;5;21;01mnumpy\u001b[39;00m \u001b[38;5;28;01mas\u001b[39;00m \u001b[38;5;21;01mnp\u001b[39;00m\n\u001b[1;32m---> 14\u001b[0m data \u001b[38;5;241m=\u001b[39m \u001b[43mnp\u001b[49m\u001b[38;5;241;43m.\u001b[39;49m\u001b[43mloadtxt\u001b[49m\u001b[43m(\u001b[49m\u001b[38;5;124;43m'\u001b[39;49m\u001b[38;5;124;43mMNIST.csv\u001b[39;49m\u001b[38;5;124;43m'\u001b[39;49m\u001b[43m,\u001b[49m\u001b[43m \u001b[49m\u001b[43mdelimiter\u001b[49m\u001b[38;5;241;43m=\u001b[39;49m\u001b[38;5;124;43m'\u001b[39;49m\u001b[38;5;124;43m,\u001b[39;49m\u001b[38;5;124;43m'\u001b[39;49m\u001b[43m,\u001b[49m\u001b[43m \u001b[49m\u001b[43musecols\u001b[49m\u001b[38;5;241;43m=\u001b[39;49m\u001b[43m[\u001b[49m\u001b[38;5;241;43m1\u001b[39;49m\u001b[43m,\u001b[49m\u001b[38;5;241;43m2\u001b[39;49m\u001b[43m]\u001b[49m\u001b[43m,\u001b[49m\u001b[43m \u001b[49m\u001b[43mdtype\u001b[49m\u001b[38;5;241;43m=\u001b[39;49m\u001b[38;5;124;43m'\u001b[39;49m\u001b[38;5;124;43mstr\u001b[39;49m\u001b[38;5;124;43m'\u001b[39;49m\u001b[43m)\u001b[49m\n\u001b[0;32m     15\u001b[0m \u001b[38;5;28mprint\u001b[39m(data)\n",
      "File \u001b[1;32m~\\anaconda3\\lib\\site-packages\\numpy\\lib\\npyio.py:1067\u001b[0m, in \u001b[0;36mloadtxt\u001b[1;34m(fname, dtype, comments, delimiter, converters, skiprows, usecols, unpack, ndmin, encoding, max_rows, like)\u001b[0m\n\u001b[0;32m   1065\u001b[0m     fname \u001b[38;5;241m=\u001b[39m os_fspath(fname)\n\u001b[0;32m   1066\u001b[0m \u001b[38;5;28;01mif\u001b[39;00m _is_string_like(fname):\n\u001b[1;32m-> 1067\u001b[0m     fh \u001b[38;5;241m=\u001b[39m \u001b[43mnp\u001b[49m\u001b[38;5;241;43m.\u001b[39;49m\u001b[43mlib\u001b[49m\u001b[38;5;241;43m.\u001b[39;49m\u001b[43m_datasource\u001b[49m\u001b[38;5;241;43m.\u001b[39;49m\u001b[43mopen\u001b[49m\u001b[43m(\u001b[49m\u001b[43mfname\u001b[49m\u001b[43m,\u001b[49m\u001b[43m \u001b[49m\u001b[38;5;124;43m'\u001b[39;49m\u001b[38;5;124;43mrt\u001b[39;49m\u001b[38;5;124;43m'\u001b[39;49m\u001b[43m,\u001b[49m\u001b[43m \u001b[49m\u001b[43mencoding\u001b[49m\u001b[38;5;241;43m=\u001b[39;49m\u001b[43mencoding\u001b[49m\u001b[43m)\u001b[49m\n\u001b[0;32m   1068\u001b[0m     fencoding \u001b[38;5;241m=\u001b[39m \u001b[38;5;28mgetattr\u001b[39m(fh, \u001b[38;5;124m'\u001b[39m\u001b[38;5;124mencoding\u001b[39m\u001b[38;5;124m'\u001b[39m, \u001b[38;5;124m'\u001b[39m\u001b[38;5;124mlatin1\u001b[39m\u001b[38;5;124m'\u001b[39m)\n\u001b[0;32m   1069\u001b[0m     fh \u001b[38;5;241m=\u001b[39m \u001b[38;5;28miter\u001b[39m(fh)\n",
      "File \u001b[1;32m~\\anaconda3\\lib\\site-packages\\numpy\\lib\\_datasource.py:193\u001b[0m, in \u001b[0;36mopen\u001b[1;34m(path, mode, destpath, encoding, newline)\u001b[0m\n\u001b[0;32m    156\u001b[0m \u001b[38;5;124;03m\"\"\"\u001b[39;00m\n\u001b[0;32m    157\u001b[0m \u001b[38;5;124;03mOpen `path` with `mode` and return the file object.\u001b[39;00m\n\u001b[0;32m    158\u001b[0m \n\u001b[1;32m   (...)\u001b[0m\n\u001b[0;32m    189\u001b[0m \n\u001b[0;32m    190\u001b[0m \u001b[38;5;124;03m\"\"\"\u001b[39;00m\n\u001b[0;32m    192\u001b[0m ds \u001b[38;5;241m=\u001b[39m DataSource(destpath)\n\u001b[1;32m--> 193\u001b[0m \u001b[38;5;28;01mreturn\u001b[39;00m \u001b[43mds\u001b[49m\u001b[38;5;241;43m.\u001b[39;49m\u001b[43mopen\u001b[49m\u001b[43m(\u001b[49m\u001b[43mpath\u001b[49m\u001b[43m,\u001b[49m\u001b[43m \u001b[49m\u001b[43mmode\u001b[49m\u001b[43m,\u001b[49m\u001b[43m \u001b[49m\u001b[43mencoding\u001b[49m\u001b[38;5;241;43m=\u001b[39;49m\u001b[43mencoding\u001b[49m\u001b[43m,\u001b[49m\u001b[43m \u001b[49m\u001b[43mnewline\u001b[49m\u001b[38;5;241;43m=\u001b[39;49m\u001b[43mnewline\u001b[49m\u001b[43m)\u001b[49m\n",
      "File \u001b[1;32m~\\anaconda3\\lib\\site-packages\\numpy\\lib\\_datasource.py:533\u001b[0m, in \u001b[0;36mDataSource.open\u001b[1;34m(self, path, mode, encoding, newline)\u001b[0m\n\u001b[0;32m    530\u001b[0m     \u001b[38;5;28;01mreturn\u001b[39;00m _file_openers[ext](found, mode\u001b[38;5;241m=\u001b[39mmode,\n\u001b[0;32m    531\u001b[0m                               encoding\u001b[38;5;241m=\u001b[39mencoding, newline\u001b[38;5;241m=\u001b[39mnewline)\n\u001b[0;32m    532\u001b[0m \u001b[38;5;28;01melse\u001b[39;00m:\n\u001b[1;32m--> 533\u001b[0m     \u001b[38;5;28;01mraise\u001b[39;00m \u001b[38;5;167;01mIOError\u001b[39;00m(\u001b[38;5;124m\"\u001b[39m\u001b[38;5;132;01m%s\u001b[39;00m\u001b[38;5;124m not found.\u001b[39m\u001b[38;5;124m\"\u001b[39m \u001b[38;5;241m%\u001b[39m path)\n",
      "\u001b[1;31mOSError\u001b[0m: MNIST.csv not found."
     ]
    }
   ],
   "source": [
    "# file = open('harry_potter.txt', 'r')\n",
    "# print(file.read())\n",
    "# file.close\n",
    "# with open(‘filename.txt’) as file: print(file.readline())\n",
    "\n",
    "# importing files using numpy\n",
    "#  np.loadtxt (file, delimiter)\n",
    "# skiprows = 1 ; when file has header, \n",
    "# usecols = [index, index] select specific parts\n",
    "# dtype = data_type to specify data type\n",
    "\n",
    "import numpy as np\n",
    "\n",
    "data = np.loadtxt('MNIST.csv', delimiter=',', usecols=[1,2], dtype='str')\n",
    "print(data)"
   ]
  },
  {
   "cell_type": "code",
   "execution_count": null,
   "id": "b77071ee-a6eb-4bdb-95a0-77f3c3e062e7",
   "metadata": {},
   "outputs": [],
   "source": []
  }
 ],
 "metadata": {
  "kernelspec": {
   "display_name": "Python 3 (ipykernel)",
   "language": "python",
   "name": "python3"
  },
  "language_info": {
   "codemirror_mode": {
    "name": "ipython",
    "version": 3
   },
   "file_extension": ".py",
   "mimetype": "text/x-python",
   "name": "python",
   "nbconvert_exporter": "python",
   "pygments_lexer": "ipython3",
   "version": "3.9.12"
  }
 },
 "nbformat": 4,
 "nbformat_minor": 5
}
