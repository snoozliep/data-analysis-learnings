{
 "cells": [
  {
   "cell_type": "code",
   "execution_count": 1,
   "id": "1d7d5172-ccdc-492b-869b-e704503c7770",
   "metadata": {},
   "outputs": [
    {
     "name": "stdin",
     "output_type": "stream",
     "text": [
      "Name:  14\n"
     ]
    },
    {
     "name": "stdout",
     "output_type": "stream",
     "text": [
      "Hello, 14.\n",
      "Hello, 14.\n",
      "Hello, 14.\n",
      "Access Denied\n"
     ]
    }
   ],
   "source": [
    "name = input(\"Name: \")\n",
    "print(\"Hello, %s.\" % name)\n",
    "print(\"Hello, \" + name + \".\")\n",
    "print(\"Hello, {}.\".format (name))\n",
    "\n",
    "if name == \"Mary\":\n",
    "    print(\"Welcome, \" + name + \".\")\n",
    "else:\n",
    "    print(\"Access Denied\")\n"
   ]
  },
  {
   "cell_type": "code",
   "execution_count": 2,
   "id": "da66c605-0705-4821-8e73-1581d449d1d8",
   "metadata": {},
   "outputs": [
    {
     "name": "stdin",
     "output_type": "stream",
     "text": [
      "String 1:  34\n",
      "String 2:  35\n",
      "Num 1:  34\n",
      "Num 2:  3\n"
     ]
    },
    {
     "name": "stdout",
     "output_type": "stream",
     "text": [
      "Total Number is:  37\n",
      "Combined: 3435\n"
     ]
    }
   ],
   "source": [
    "string1 = input(\"String 1: \")\n",
    "string2 = input(\"String 2: \")\n",
    "\n",
    "num1 = int(input(\"Num 1: \"))\n",
    "num2 = int(input(\"Num 2: \"))\n",
    "\n",
    "total = num1 + num2\n",
    "string = string1 + string2\n",
    "\n",
    "print(\"Total Number is: \", total)\n",
    "print(\"Combined: \" + string)\n"
   ]
  },
  {
   "cell_type": "code",
   "execution_count": null,
   "id": "14993162-cac1-4234-bcae-eb27408c4eb4",
   "metadata": {},
   "outputs": [],
   "source": [
    "# file = open('harry_potter.txt', 'r')\n",
    "# print(file.read())\n",
    "# file.close\n",
    "# with open(‘filename.txt’) as file: print(file.readline())\n",
    "\n",
    "# importing files using numpy\n",
    "#  np.loadtxt (file, delimiter)\n",
    "# skiprows = 1 ; when file has header, \n",
    "# usecols = [index, index] select specific parts\n",
    "# dtype = data_type to specify data type\n",
    "\n",
    "import numpy as np\n",
    "\n",
    "data = np.loadtxt('MNIST.csv', delimiter=',', usecols=[1,2], dtype='str')\n",
    "print(data)"
   ]
  },
  {
   "cell_type": "code",
   "execution_count": 10,
   "id": "a56a9cd0-5fbd-48cb-a2be-15fc0ea527b1",
   "metadata": {},
   "outputs": [
    {
     "name": "stdout",
     "output_type": "stream",
     "text": [
      "[(1, 0, 3, b'male', 22., 1, 0, b'A/5 21171',  7.25  , b'', b'S')\n",
      " (2, 1, 1, b'female', 38., 1, 0, b'PC 17599', 71.2833, b'C85', b'C')\n",
      " (3, 1, 3, b'female', 26., 0, 0, b'STON/O2. 3101282',  7.925 , b'', b'S')]\n"
     ]
    },
    {
     "name": "stderr",
     "output_type": "stream",
     "text": [
      "C:\\Users\\User\\AppData\\Local\\Temp\\ipykernel_524\\1332083865.py:1: VisibleDeprecationWarning: Reading unicode strings without specifying the encoding argument is deprecated. Set the encoding, use None for the system default.\n",
      "  data = np.genfromtxt('titanic.csv', delimiter=',', names=True, dtype=None)\n",
      "C:\\Users\\User\\anaconda3\\lib\\site-packages\\numpy\\lib\\npyio.py:2407: VisibleDeprecationWarning: Reading unicode strings without specifying the encoding argument is deprecated. Set the encoding, use None for the system default.\n",
      "  output = genfromtxt(fname, **kwargs)\n"
     ]
    }
   ],
   "source": [
    "data = np.genfromtxt('titanic.csv', delimiter=',', names=True, dtype=None)\n",
    "print(data[:3])\n"
   ]
  },
  {
   "cell_type": "code",
   "execution_count": 14,
   "id": "b9e8a840-2cfc-4220-804f-352d844c9e6c",
   "metadata": {},
   "outputs": [
    {
     "name": "stdout",
     "output_type": "stream",
     "text": [
      "[(1, 0, 3, b'male', 22., 1, 0, b'A/5 21171',  7.25  , b'', b'S')\n",
      " (2, 1, 1, b'female', 38., 1, 0, b'PC 17599', 71.2833, b'C85', b'C')\n",
      " (3, 1, 3, b'female', 26., 0, 0, b'STON/O2. 3101282',  7.925 , b'', b'S')]\n"
     ]
    }
   ],
   "source": [
    "data = np.recfromcsv('titanic.csv')\n",
    "print (data[:3])"
   ]
  },
  {
   "cell_type": "code",
   "execution_count": 24,
   "id": "86ee98f0-9e02-4cbf-a7b6-f1e9f871ca23",
   "metadata": {},
   "outputs": [
    {
     "name": "stdout",
     "output_type": "stream",
     "text": [
      "   volatililty  acidity  citric acid  residual sugar\n",
      "0            0      0.0            0             2.8\n",
      "1            1      NaN            0             2.6\n",
      "         country    capital    area  population\n",
      "BR        Brazil   Brasilia   8.516      200.40\n",
      "RU        Russia     Moscow  17.100      143.50\n",
      "IN         India  New Delhi   3.286     1252.00\n",
      "CH         China    Beijing   9.597     1357.00\n",
      "SA  South Africa   Pretoria   1.221       52.98\n"
     ]
    }
   ],
   "source": [
    "import pandas as pd\n",
    "wine = pd.read_csv('wine.csv', nrows = 2)\n",
    "# header = None if not needed\n",
    "print(wine)\n",
    "\n"
   ]
  },
  {
   "cell_type": "code",
   "execution_count": 27,
   "id": "2be8df64-1aa0-400c-b468-b92b7ec140f8",
   "metadata": {},
   "outputs": [
    {
     "name": "stdout",
     "output_type": "stream",
     "text": [
      "         country    capital    area  population\n",
      "BR        Brazil   Brasilia   8.516      200.40\n",
      "RU        Russia     Moscow  17.100      143.50\n",
      "IN         India  New Delhi   3.286     1252.00\n",
      "CH         China    Beijing   9.597     1357.00\n",
      "SA  South Africa   Pretoria   1.221       52.98\n"
     ]
    }
   ],
   "source": [
    "brics = pd.read_csv('brics.csv', index_col=0) #remove 1st unwanted column\n",
    "print(brics)"
   ]
  },
  {
   "cell_type": "code",
   "execution_count": 37,
   "id": "7ddadf26-2fb4-4ce3-8636-41a0aa568cad",
   "metadata": {},
   "outputs": [
    {
     "name": "stdout",
     "output_type": "stream",
     "text": [
      "                             Company   Product  Units\n",
      "Date                                                 \n",
      "2015-02-02 08:30:00            Hooli  Software      3\n",
      "2015-02-02 21:00:00        Mediacore  Hardware      9\n",
      "2015-02-03 14:00:00          Initech  Software     13\n",
      "2015-02-04 15:30:00        Streeplex  Software     13\n",
      "2015-02-04 22:00:00  Acme Coporation  Hardware     14\n"
     ]
    }
   ],
   "source": [
    "sales=pd.read_csv('sales_feb.csv', parse_dates=True, index_col=0)\n",
    "print(sales.head())"
   ]
  },
  {
   "cell_type": "code",
   "execution_count": 51,
   "id": "a9f4efcd-53f8-460b-85bb-a5e9e5015e8a",
   "metadata": {},
   "outputs": [
    {
     "name": "stdout",
     "output_type": "stream",
     "text": [
      "['1960-1966', '1967-1974', '1975-2011']\n",
      "          country       1960          1961          1962          1963  \\\n",
      "0     Afghanistan   769308.0  8.149230e+05  8.585217e+05  9.039139e+05   \n",
      "1         Albania   494443.0  5.118028e+05  5.294389e+05  5.473767e+05   \n",
      "2         Algeria  3293999.0  3.515148e+06  3.739963e+06  3.973289e+06   \n",
      "3  American Samoa        NaN  1.366030e+04  1.416580e+04  1.475893e+04   \n",
      "4         Andorra        NaN  8.723921e+03  9.700346e+03  1.074838e+04   \n",
      "\n",
      "           1964          1965          1966  \n",
      "0  9.512259e+05  1.000582e+06  1.058743e+06  \n",
      "1  5.655718e+05  5.839829e+05  6.025122e+05  \n",
      "2  4.220987e+06  4.488176e+06  4.649105e+06  \n",
      "3  1.539642e+04  1.604482e+04  1.669311e+04  \n",
      "4  1.186586e+04  1.305275e+04  1.421681e+04  \n",
      "          country       1960          1961          1962          1963  \\\n",
      "0     Afghanistan   769308.0  8.149230e+05  8.585217e+05  9.039139e+05   \n",
      "1         Albania   494443.0  5.118028e+05  5.294389e+05  5.473767e+05   \n",
      "2         Algeria  3293999.0  3.515148e+06  3.739963e+06  3.973289e+06   \n",
      "3  American Samoa        NaN  1.366030e+04  1.416580e+04  1.475893e+04   \n",
      "4         Andorra        NaN  8.723921e+03  9.700346e+03  1.074838e+04   \n",
      "\n",
      "           1964          1965          1966  \n",
      "0  9.512259e+05  1.000582e+06  1.058743e+06  \n",
      "1  5.655718e+05  5.839829e+05  6.025122e+05  \n",
      "2  4.220987e+06  4.488176e+06  4.649105e+06  \n",
      "3  1.539642e+04  1.604482e+04  1.669311e+04  \n",
      "4  1.186586e+04  1.305275e+04  1.421681e+04  \n",
      "          country       1960\n",
      "0     Afghanistan   769308.0\n",
      "1         Albania   494443.0\n",
      "2         Algeria  3293999.0\n",
      "3  American Samoa        NaN\n",
      "4         Andorra        NaN\n",
      "          Country       Year\n",
      "0     Afghanistan   769308.0\n",
      "1         Albania   494443.0\n",
      "2         Algeria  3293999.0\n",
      "3  American Samoa        NaN\n",
      "4         Andorra        NaN\n"
     ]
    }
   ],
   "source": [
    "#Importing Excel spreadsheets\n",
    "\n",
    "import pandas as pd\n",
    "pop = pd.ExcelFile('urbanpop.xlsx')\n",
    "print(pop.sheet_names)\n",
    "\n",
    "pop1 = pop.parse('1960-1966')\n",
    "print(pop1.head())\n",
    "\n",
    "pop2 = pop.parse(0)\n",
    "print(pop2.head())\n",
    "\n",
    "pop3 = pop.parse(0, usecols=[0,1])\n",
    "print(pop3.head())\n",
    "\n",
    "pop4 = pop.parse(0, usecols=[0,1], names =['Country', 'Year'])\n",
    "print(pop4.head())"
   ]
  },
  {
   "cell_type": "code",
   "execution_count": 61,
   "id": "ac89efc0-670f-4fd5-813b-a28e1b192ca9",
   "metadata": {},
   "outputs": [
    {
     "name": "stdout",
     "output_type": "stream",
     "text": [
      "('winequality-white.csv', <http.client.HTTPMessage object at 0x000001A3DA892460>)\n",
      "   fixed acidity  volatile acidity  citric acid  residual sugar  chlorides  \\\n",
      "0            7.0              0.27         0.36            20.7      0.045   \n",
      "1            6.3              0.30         0.34             1.6      0.049   \n",
      "2            8.1              0.28         0.40             6.9      0.050   \n",
      "3            7.2              0.23         0.32             8.5      0.058   \n",
      "4            7.2              0.23         0.32             8.5      0.058   \n",
      "\n",
      "   free sulfur dioxide  total sulfur dioxide  density    pH  sulphates  \\\n",
      "0                 45.0                 170.0   1.0010  3.00       0.45   \n",
      "1                 14.0                 132.0   0.9940  3.30       0.49   \n",
      "2                 30.0                  97.0   0.9951  3.26       0.44   \n",
      "3                 47.0                 186.0   0.9956  3.19       0.40   \n",
      "4                 47.0                 186.0   0.9956  3.19       0.40   \n",
      "\n",
      "   alcohol  quality  \n",
      "0      8.8        6  \n",
      "1      9.5        6  \n",
      "2     10.1        6  \n",
      "3      9.9        6  \n",
      "4      9.9        6  \n"
     ]
    }
   ],
   "source": [
    "# importing from the internet\n",
    "from urllib.request import urlretrieve\n",
    "\n",
    "url = 'http://archive.ics.uci.edu/ml/machine-learning-databases/wine-quality/winequality-white.csv'\n",
    "print(urlretrieve(url, 'winequality-white.csv'))\n",
    "\n",
    "white = pd.read_csv('winequality-white.csv', sep=';') #; speretaes by ;\n",
    "print(white.head())\n"
   ]
  },
  {
   "cell_type": "raw",
   "id": "55caa266-5f5d-4b43-963c-9ba1adac370d",
   "metadata": {},
   "source": []
  },
  {
   "cell_type": "code",
   "execution_count": 69,
   "id": "8c1370b8-f370-4938-a34d-d439962bf69d",
   "metadata": {},
   "outputs": [
    {
     "name": "stdout",
     "output_type": "stream",
     "text": [
      "    Country  Continent  female literacy  fertility     population\n",
      "0      Chine       ASI             90.5      1.769  1,324,655,000\n",
      "1       Inde       ASI             50.8      2.682  1,139,964,932\n",
      "2        USA       NAM             99.0      2.077    304,060,000\n",
      "3  Indonésie       ASI             88.8      2.132    227,345,082\n",
      "4     Brésil       LAT             90.2      1.827            NaN\n",
      "                 Country  Continent  female literacy  fertility population\n",
      "157               Vanuatu       OCE             79.5      3.883    233,866\n",
      "158                 Samoa       OCE             98.5      3.852    178,869\n",
      "159  Sao Tomé-et-Principe        AF             83.3      3.718    160,174\n",
      "160                 Aruba       LAT             98.0      1.732        NaN\n",
      "161                 Tonga       ASI             99.1      3.928    103,566\n",
      "(162, 5)\n",
      "Index(['Country ', 'Continent', 'female literacy', 'fertility', 'population'], dtype='object')\n",
      "<class 'pandas.core.frame.DataFrame'>\n",
      "RangeIndex: 162 entries, 0 to 161\n",
      "Data columns (total 5 columns):\n",
      " #   Column           Non-Null Count  Dtype  \n",
      "---  ------           --------------  -----  \n",
      " 0   Country          162 non-null    object \n",
      " 1   Continent        162 non-null    object \n",
      " 2   female literacy  162 non-null    float64\n",
      " 3   fertility        158 non-null    float64\n",
      " 4   population       152 non-null    object \n",
      "dtypes: float64(2), object(3)\n",
      "memory usage: 6.5+ KB\n",
      "None\n",
      "       female literacy   fertility\n",
      "count       162.000000  158.000000\n",
      "mean         80.107407    2.851443\n",
      "std          23.052415    1.418163\n",
      "min          12.600000    0.966000\n",
      "25%          66.425000    1.799500\n",
      "50%          90.000000    2.361000\n",
      "75%          98.500000    3.867000\n",
      "max         100.000000    7.069000\n"
     ]
    }
   ],
   "source": [
    "# Data cleaning: column name, missing data, country names\n",
    "\n",
    "import pandas as pd\n",
    "data = pd.read_csv('female_literacy_fertility_for_cleaning.csv')\n",
    "print(data.head())\n",
    "print(data.tail())\n",
    "print(data.shape)\n",
    "print(data.columns)\n",
    "print(data.info()) # misisng values in fertility and population, populattion data type\n",
    "print(data.describe()) #populatio  data type"
   ]
  },
  {
   "cell_type": "code",
   "execution_count": 71,
   "id": "189818ef-c57e-47cf-b4ac-fa863e3b35b0",
   "metadata": {},
   "outputs": [
    {
     "name": "stdout",
     "output_type": "stream",
     "text": [
      "AF     48\n",
      "ASI    47\n",
      "EUR    36\n",
      "LAT    24\n",
      "OCE     4\n",
      "NAM     3\n",
      "Name: Continent, dtype: int64\n",
      "AF     48\n",
      "ASI    47\n",
      "EUR    36\n",
      "LAT    24\n",
      "OCE     4\n",
      "NAM     3\n",
      "Name: Continent, dtype: int64\n"
     ]
    }
   ],
   "source": [
    "print(data['Continent'].value_counts(dropna=False))\n",
    "print(data.Continent.value_counts(dropna=False)) #another frequency count"
   ]
  },
  {
   "cell_type": "code",
   "execution_count": 81,
   "id": "754d68c4-d228-4501-8f27-0c52317b20e7",
   "metadata": {},
   "outputs": [
    {
     "name": "stdout",
     "output_type": "stream",
     "text": [
      "Index(['country', 'continent', 'female literacy', 'fertility', 'population'], dtype='object')\n",
      "USA             2\n",
      "Chine           1\n",
      "Ireland         1\n",
      "Kirghizistan    1\n",
      "Turkménistan    1\n",
      "               ..\n",
      "Angola          1\n",
      "Chili           1\n",
      "Netherlands     1\n",
      "Kazakhstan      1\n",
      "Tonga           1\n",
      "Name: country, Length: 161, dtype: int64\n",
      "NaN              10\n",
      "1,324,655,000     1\n",
      "4,434,000         1\n",
      "5,313,399         1\n",
      "5,277,900         1\n",
      "                 ..\n",
      "19,110,941        1\n",
      "19,088,385        1\n",
      "18,020,668        1\n",
      "16,803,952        1\n",
      "103,566           1\n",
      "Name: population, Length: 153, dtype: int64\n"
     ]
    }
   ],
   "source": [
    "data.rename(columns={'Country ':'country', 'Continent':'continent'}, inplace=True)\n",
    "print(data.columns)\n",
    "print(data['country'].value_counts(dropna=False))\n",
    "#USE occured twice, \n",
    "\n",
    "print(data['population'].value_counts(dropna=False))\n",
    "# 10missing values NaN"
   ]
  },
  {
   "cell_type": "code",
   "execution_count": null,
   "id": "c433aad9-5382-4516-afd5-d92ea10a64cc",
   "metadata": {},
   "outputs": [],
   "source": [
    "#Graphical Exploratroy Data Analsyis\n",
    "#Histograms are for continuous data counts (bar plots for discrete data counts)\n",
    "\n",
    "import matplotlib.pyplot as plt\n",
    "plt.hist(data['population'])\n",
    "plt.show\n",
    "\n"
   ]
  },
  {
   "cell_type": "code",
   "execution_count": 93,
   "id": "d64d6062-45ca-4c36-b040-2dfda46bce45",
   "metadata": {},
   "outputs": [
    {
     "name": "stdout",
     "output_type": "stream",
     "text": [
      "     country continent  female literacy  fertility    population\n",
      "0      Chine       ASI             90.5      1.769  1.324655e+09\n",
      "1       Inde       ASI             50.8      2.682  1.139965e+09\n",
      "2        USA       NAM             99.0      2.077  3.040600e+08\n",
      "3  Indonésie       ASI             88.8      2.132  2.273451e+08\n",
      "4     Brésil       LAT             90.2      1.827           NaN\n",
      "       female literacy   fertility    population\n",
      "count       162.000000  158.000000  1.520000e+02\n",
      "mean         80.107407    2.851443  7.305804e+07\n",
      "std          23.052415    1.418163  4.168694e+08\n",
      "min          12.600000    0.966000  1.035660e+05\n",
      "25%          66.425000    1.799500  3.388646e+06\n",
      "50%          90.000000    2.361000  9.707404e+06\n",
      "75%          98.500000    3.867000  2.888280e+07\n",
      "max         100.000000    7.069000  4.860700e+09\n",
      "     country continent  female literacy  fertility    population\n",
      "0      Chine       ASI             90.5      1.769  1.324655e+09\n",
      "1       Inde       ASI             50.8      2.682  1.139965e+09\n",
      "2        USA       NAM             99.0      2.077  3.040600e+08\n",
      "3  Indonésie       ASI             88.8      2.132  2.273451e+08\n",
      "4     Brésil       LAT             90.2      1.827           NaN\n",
      "<class 'pandas.core.frame.DataFrame'>\n",
      "RangeIndex: 162 entries, 0 to 161\n",
      "Data columns (total 5 columns):\n",
      " #   Column           Non-Null Count  Dtype  \n",
      "---  ------           --------------  -----  \n",
      " 0   country          162 non-null    object \n",
      " 1   continent        162 non-null    object \n",
      " 2   female literacy  162 non-null    float64\n",
      " 3   fertility        158 non-null    float64\n",
      " 4   population       152 non-null    float64\n",
      "dtypes: float64(3), object(2)\n",
      "memory usage: 6.5+ KB\n",
      "None\n",
      "<class 'pandas.core.frame.DataFrame'>\n",
      "RangeIndex: 162 entries, 0 to 161\n",
      "Data columns (total 5 columns):\n",
      " #   Column           Non-Null Count  Dtype  \n",
      "---  ------           --------------  -----  \n",
      " 0   country          162 non-null    object \n",
      " 1   continent        162 non-null    object \n",
      " 2   female literacy  162 non-null    float64\n",
      " 3   fertility        158 non-null    float64\n",
      " 4   population       152 non-null    float64\n",
      "dtypes: float64(3), object(2)\n",
      "memory usage: 6.5+ KB\n",
      "None\n"
     ]
    }
   ],
   "source": [
    "print(data.head()) #not numerical\n",
    "print(data.describe())\n",
    "\n",
    "# data['population'] = data['population'].str.replace(',','')\n",
    "print(data.head())\n",
    "print(data.info()) #populaition is object\n",
    "data['population'] = data['population'].astype(float)\n",
    "print(data.info()) #populaition is object"
   ]
  },
  {
   "cell_type": "code",
   "execution_count": 96,
   "id": "dee92e15-d4ad-46e8-b711-a876f2c3e67e",
   "metadata": {},
   "outputs": [
    {
     "name": "stdout",
     "output_type": "stream",
     "text": [
      "        country continent  female literacy  fertility    population\n",
      "0         Chine       ASI             90.5      1.769  1.324655e+09\n",
      "1          Inde       ASI             50.8      2.682  1.139965e+09\n",
      "25  South Korea       ASI             96.6      1.224  4.860700e+09\n"
     ]
    },
    {
     "data": {
      "image/png": "[encoded data removed]",
      "text/plain": [
       "<Figure size 432x288 with 1 Axes>"
      ]
     },
     "metadata": {
      "needs_background": "light"
     },
     "output_type": "display_data"
    }
   ],
   "source": [
    "plt.hist(data['population'])\n",
    "\n",
    "plt.xlabel('Population')\n",
    "plt.ylabel('Frequency')\n",
    "plt.title('Population')\n",
    "\n",
    "plt.show\n",
    "\n",
    "#has outliers\n",
    "\n",
    "print(data[data.population>1000000000])\n",
    "#not all outliers are bad"
   ]
  },
  {
   "cell_type": "code",
   "execution_count": 97,
   "id": "fe7253de-d176-46ce-a785-19a543307581",
   "metadata": {},
   "outputs": [
    {
     "data": {
      "text/plain": [
       "<function matplotlib.pyplot.show(close=None, block=None)>"
      ]
     },
     "execution_count": 97,
     "metadata": {},
     "output_type": "execute_result"
    },
    {
     "data": {
      "image/png": "[encoded data removed]",
      "text/plain": [
       "<Figure size 432x288 with 1 Axes>"
      ]
     },
     "metadata": {
      "needs_background": "light"
     },
     "output_type": "display_data"
    }
   ],
   "source": [
    "#Box plots for one variable is categorical, and used for basic summary stats: outliers, min/max, 25th, 50th percent\n",
    "\n",
    "data.boxplot(column='population', by='continent')\n",
    "plt.show\n",
    "\n",
    "#outleirs are floating 1, 5"
   ]
  },
  {
   "cell_type": "code",
   "execution_count": 101,
   "id": "4b487e5c-4e7b-46fd-ace0-80d5a1e34e49",
   "metadata": {},
   "outputs": [
    {
     "name": "stdout",
     "output_type": "stream",
     "text": [
      "     name  treatment a  treatment b\n",
      "0  Daniel          NaN           42\n",
      "1    John         12.0           31\n",
      "2    Jane         24.0           27\n",
      "     name     variable  value\n",
      "0  Daniel  treatment a    NaN\n",
      "1    John  treatment a   12.0\n",
      "2    Jane  treatment a   24.0\n",
      "3  Daniel  treatment b   42.0\n",
      "4    John  treatment b   31.0\n",
      "5    Jane  treatment b   27.0\n",
      "     name    treatment  result\n",
      "0  Daniel  treatment a     NaN\n",
      "1    John  treatment a    12.0\n",
      "2    Jane  treatment a    24.0\n",
      "3  Daniel  treatment b    42.0\n",
      "4    John  treatment b    31.0\n",
      "5    Jane  treatment b    27.0\n"
     ]
    }
   ],
   "source": [
    "#tidy data : columns variables, rows observations= table : when volumn has values, replace with variables\n",
    "\n",
    "#melting data ; columns of data to rows\n",
    "\n",
    "# pd.melt(frame, id_vars, value_vars, var_name, value_name)\n",
    "\n",
    "import pandas as pd\n",
    "data = pd.read_csv('treatment.csv')\n",
    "print(data)\n",
    "print(pd.melt(frame=data, id_vars='name',value_vars=['treatment a', 'treatment b']))\n",
    "\n",
    "#rename column variable to treatment and column to result\n",
    "print(pd.melt(frame=data, id_vars='name',value_vars=['treatment a', 'treatment b'],\n",
    "             var_name='treatment', value_name='result'))\n"
   ]
  },
  {
   "cell_type": "code",
   "execution_count": 103,
   "id": "a43d88fe-b11c-4e42-a204-283431ccfb92",
   "metadata": {},
   "outputs": [
    {
     "name": "stdout",
     "output_type": "stream",
     "text": [
      "         date element  value\n",
      "0  2010-01-30    tmax   27.8\n",
      "1  2010-01-30    tmin   14.5\n",
      "2  2010-02-02    tmax   27.3\n",
      "3  2010-02-02    tmin   14.1\n",
      "element     tmax  tmin\n",
      "date                  \n",
      "2010-01-30  27.8  14.5\n",
      "2010-02-02  27.3  14.1\n"
     ]
    }
   ],
   "source": [
    "#pivoting : rows of data into columns\n",
    "#.pivot(index,columns, values)\n",
    "\n",
    "data2 = pd.read_csv('weather1.csv', parse_dates=True)\n",
    "print(data2)\n",
    "\n",
    "weather_tidy = data2.pivot(index='date', columns = 'element', values = 'value')\n",
    "print(weather_tidy)"
   ]
  },
  {
   "cell_type": "code",
   "execution_count": 107,
   "id": "e6176f30-5ac0-4eca-b586-1ca9fac90870",
   "metadata": {},
   "outputs": [
    {
     "name": "stdout",
     "output_type": "stream",
     "text": [
      "element     tmax  tmin\n",
      "date                  \n",
      "02/02/2010  27.3  15.4\n",
      "30/01/2010  27.8  14.5\n"
     ]
    }
   ],
   "source": [
    "#tmax and tmin intro columns and correct error by aggregating the values of doplucate entries\n",
    "data3 = pd.read_csv('weather2.csv', parse_dates=True)\n",
    "weather3_tidy = data3.pivot_table(index='date', columns='element', values='value',\n",
    "                                  aggfunc=np.mean)\n",
    "print(weather3_tidy)"
   ]
  },
  {
   "cell_type": "code",
   "execution_count": 110,
   "id": "9f1eef8e-9d16-4c80-a812-d0018c30dde2",
   "metadata": {},
   "outputs": [
    {
     "name": "stdout",
     "output_type": "stream",
     "text": [
      "  country  year  m014  m1524\n",
      "0      AD  2000     0      0\n",
      "1      AE  2000     2      4\n",
      "2      AF  2000    52    228\n",
      "  country  year variable  value\n",
      "0      AD  2000     m014      0\n",
      "1      AE  2000     m014      2\n",
      "2      AF  2000     m014     52\n",
      "3      AD  2000    m1524      0\n",
      "4      AE  2000    m1524      4\n",
      "5      AF  2000    m1524    228\n",
      "  country  year variable  value gender\n",
      "0      AD  2000     m014      0      m\n",
      "1      AE  2000     m014      2      m\n",
      "2      AF  2000     m014     52      m\n",
      "3      AD  2000    m1524      0      m\n",
      "4      AE  2000    m1524      4      m\n",
      "5      AF  2000    m1524    228      m\n"
     ]
    }
   ],
   "source": [
    "#Beyond Melt and Pivot : reshaping and cleaning ;column multiple info\n",
    "\n",
    "data4 = pd.read_csv('tb_data.csv')\n",
    "print(data4)\n",
    "\n",
    "#melt\n",
    "tb_melt = pd.melt(frame=data4, id_vars=['country', 'year'])\n",
    "print(tb_melt)\n",
    "\n",
    "#parse string\n",
    "tb_melt['gender'] = tb_melt.variable.str[0]\n",
    "print(tb_melt)"
   ]
  },
  {
   "cell_type": "code",
   "execution_count": 115,
   "id": "b4883d82-adaa-4fe3-b402-4e97d604903c",
   "metadata": {},
   "outputs": [
    {
     "name": "stdout",
     "output_type": "stream",
     "text": [
      "         date element  value\n",
      "0  2020-01-30    tmax   27.8\n",
      "1  2020-01-30    tmin   14.5\n",
      "         date element  value\n",
      "0  2020-02-20    tmax   27.3\n",
      "1  2020-02-20    tmin   14.4\n",
      "         date element  value\n",
      "0  2020-01-30    tmax   27.8\n",
      "1  2020-01-30    tmin   14.5\n",
      "2  2020-02-20    tmax   27.3\n",
      "3  2020-02-20    tmin   14.4\n"
     ]
    }
   ],
   "source": [
    "# CONCATENATING DATAFRAMES : combine data\n",
    "# Data may not always come in one big file. It is important to be able to combine then clean, and vice versa.\n",
    "\n",
    "import pandas as pd\n",
    "w1 = pd.read_csv('weather_p1.csv')\n",
    "print(w1)\n",
    "w2 = pd.read_csv('weather_p2.csv')\n",
    "print(w2)\n",
    "w_concatenated = pd.concat([w1, w2], ignore_index=True) #fixed 0101 values\n",
    "print(w_concatenated)"
   ]
  },
  {
   "cell_type": "code",
   "execution_count": 124,
   "id": "66ae3197-12c5-463d-bef6-e56514a632e8",
   "metadata": {},
   "outputs": [
    {
     "name": "stdout",
     "output_type": "stream",
     "text": [
      "        state  population_2016\n",
      "0  California         39250017\n",
      "1       Texas         27862596\n",
      "2     Florida         20612439\n",
      "3    New York         19745289\n",
      "         name ANSI\n",
      "0  California   CA\n",
      "1     Florida   FL\n",
      "2    New York   NY\n",
      "3       Texas   TX\n",
      "        state  population_2016        name ANSI\n",
      "0  California         39250017  California   CA\n",
      "1       Texas         27862596       Texas   TX\n",
      "2     Florida         20612439     Florida   FL\n",
      "3    New York         19745289    New York   NY\n",
      "        state           city\n",
      "0  California      San Diego\n",
      "1  California     Sacramento\n",
      "2    New York  New York City\n",
      "3    New York         Albany\n",
      "         name ANSI       state           city\n",
      "0  California   CA  California      San Diego\n",
      "1  California   CA  California     Sacramento\n",
      "2    New York   NY    New York  New York City\n",
      "3    New York   NY    New York         Albany\n"
     ]
    }
   ],
   "source": [
    "#merging\n",
    "pop = pd.read_csv('state_populations.csv')\n",
    "print(pop)\n",
    "codes = pd.read_csv('state_codes.csv')\n",
    "print(codes)\n",
    "\n",
    "merged = pd.merge(left=pop, right=codes, on=None, left_on='state', right_on='name')\n",
    "print(merged)\n",
    "\n",
    "cities = pd.read_csv('state_cities.csv')\n",
    "print(cities)\n",
    "merge_new = pd.merge(left=codes, right=cities, on=None, \n",
    "                     left_on='name', right_on='state')\n",
    "print(merge_new)"
   ]
  },
  {
   "cell_type": "code",
   "execution_count": 134,
   "id": "f01898ce-a9a2-4f47-9ad8-1f7e93d77471",
   "metadata": {},
   "outputs": [
    {
     "name": "stdout",
     "output_type": "stream",
     "text": [
      "     name  gender  treatment a  treatment b\n",
      "0  Daniel    male           19           42\n",
      "1    John    male           12           31\n",
      "2    Jane  female           24           27\n",
      "<class 'pandas.core.frame.DataFrame'>\n",
      "RangeIndex: 3 entries, 0 to 2\n",
      "Data columns (total 4 columns):\n",
      " #   Column       Non-Null Count  Dtype \n",
      "---  ------       --------------  ----- \n",
      " 0   name         3 non-null      object\n",
      " 1   gender       3 non-null      object\n",
      " 2   treatment a  3 non-null      int64 \n",
      " 3   treatment b  3 non-null      int64 \n",
      "dtypes: int64(2), object(2)\n",
      "memory usage: 224.0+ bytes\n",
      "None\n",
      "<class 'pandas.core.frame.DataFrame'>\n",
      "RangeIndex: 3 entries, 0 to 2\n",
      "Data columns (total 4 columns):\n",
      " #   Column       Non-Null Count  Dtype \n",
      "---  ------       --------------  ----- \n",
      " 0   name         3 non-null      object\n",
      " 1   gender       3 non-null      object\n",
      " 2   treatment a  3 non-null      int32 \n",
      " 3   treatment b  3 non-null      int64 \n",
      "dtypes: int32(1), int64(1), object(2)\n",
      "memory usage: 212.0+ bytes\n",
      "None\n",
      "<class 'pandas.core.frame.DataFrame'>\n",
      "RangeIndex: 3 entries, 0 to 2\n",
      "Data columns (total 4 columns):\n",
      " #   Column       Non-Null Count  Dtype   \n",
      "---  ------       --------------  -----   \n",
      " 0   name         3 non-null      object  \n",
      " 1   gender       3 non-null      category\n",
      " 2   treatment a  3 non-null      int32   \n",
      " 3   treatment b  3 non-null      int64   \n",
      "dtypes: category(1), int32(1), int64(1), object(1)\n",
      "memory usage: 315.0+ bytes\n",
      "None\n"
     ]
    }
   ],
   "source": [
    "#correcting data types\n",
    "data = pd.read_csv('treatment_1.csv')\n",
    "print(data)\n",
    "print(data.info())\n",
    "data['treatment a'] = data['treatment b'].astype(int)\n",
    "print(data.info())\n",
    "\n",
    "data['gender'] = data['gender'].astype('category')\n",
    "print(data.info())"
   ]
  },
  {
   "cell_type": "raw",
   "id": "860e0427-8840-483a-b4d0-cb28c848858b",
   "metadata": {},
   "source": []
  },
  {
   "cell_type": "code",
   "execution_count": 137,
   "id": "1e6cf3d3-8a5f-4516-842e-f38d586ac2d9",
   "metadata": {},
   "outputs": [
    {
     "name": "stdout",
     "output_type": "stream",
     "text": [
      "     name  gender  treatment a  treatment b\n",
      "0  Daniel    male           18           42\n",
      "1    John    male           12           31\n",
      "2    Jane  female           24           27\n",
      "3  Daniel    male           18           42\n",
      "     name  gender  treatment a  treatment b\n",
      "0  Daniel    male           18           42\n",
      "1    John    male           12           31\n",
      "2    Jane  female           24           27\n"
     ]
    }
   ],
   "source": [
    "#duplicate data\n",
    "treatment_2 = pd.read_csv('treatment_2.csv')\n",
    "print(treatment_2)\n",
    "treatment_2 = treatment_2.drop_duplicates()\n",
    "print(treatment_2)"
   ]
  },
  {
   "cell_type": "code",
   "execution_count": 146,
   "id": "6b2efdcf-80f1-4fa9-a3ba-d86c9cbb72a2",
   "metadata": {},
   "outputs": [
    {
     "name": "stdout",
     "output_type": "stream",
     "text": [
      "   total_bill   tip  gender smoker  day    time  size\n",
      "0       16.99  1.01  Female     No  Sun  Dinner   2.0\n",
      "1       10.34  1.66    Male     No  Sun  Dinner   3.0\n",
      "2       21.01  3.50    Male     No  Sun  Dinner   3.0\n",
      "3       23.68   NaN    Male     No  Sun  Dinner   2.0\n",
      "4       24.59  3.61  Female     No  Sun  Dinner   4.0\n",
      "<class 'pandas.core.frame.DataFrame'>\n",
      "RangeIndex: 244 entries, 0 to 243\n",
      "Data columns (total 7 columns):\n",
      " #   Column      Non-Null Count  Dtype  \n",
      "---  ------      --------------  -----  \n",
      " 0   total_bill  238 non-null    float64\n",
      " 1   tip         238 non-null    float64\n",
      " 2   gender      241 non-null    object \n",
      " 3   smoker      240 non-null    object \n",
      " 4   day         234 non-null    object \n",
      " 5   time        242 non-null    object \n",
      " 6   size        240 non-null    float64\n",
      "dtypes: float64(3), object(4)\n",
      "memory usage: 13.5+ KB\n",
      "None\n",
      "   total_bill   tip  gender smoker  day    time  size\n",
      "0       16.99  1.01  Female     No  Sun  Dinner   2.0\n",
      "1       10.34  1.66    Male     No  Sun  Dinner   3.0\n",
      "2       21.01  3.50    Male     No  Sun  Dinner   3.0\n",
      "4       24.59  3.61  Female     No  Sun  Dinner   4.0\n",
      "5       25.29  4.71    Male     No  Sun  Dinner   4.0\n",
      "<class 'pandas.core.frame.DataFrame'>\n",
      "Int64Index: 216 entries, 0 to 243\n",
      "Data columns (total 7 columns):\n",
      " #   Column      Non-Null Count  Dtype  \n",
      "---  ------      --------------  -----  \n",
      " 0   total_bill  216 non-null    float64\n",
      " 1   tip         216 non-null    float64\n",
      " 2   gender      216 non-null    object \n",
      " 3   smoker      216 non-null    object \n",
      " 4   day         216 non-null    object \n",
      " 5   time        216 non-null    object \n",
      " 6   size        216 non-null    float64\n",
      "dtypes: float64(3), object(4)\n",
      "memory usage: 13.5+ KB\n"
     ]
    }
   ],
   "source": [
    "tips = pd.read_csv('tips_nan.csv')\n",
    "print(tips.head())\n",
    "print(tips.info())\n",
    "#missing data\n",
    "tips_dropped = tips.dropna() #removed NaN\n",
    "print(tips_dropped.head())\n",
    "tips_dropped.info()"
   ]
  },
  {
   "cell_type": "code",
   "execution_count": 155,
   "id": "5fb45c6a-818b-4446-8762-ee5abdc2baac",
   "metadata": {},
   "outputs": [
    {
     "name": "stdout",
     "output_type": "stream",
     "text": [
      "3.004663865546218\n",
      "   total_bill       tip  gender smoker  day    time  size\n",
      "0       16.99  1.010000  Female     No  Sun  Dinner   2.0\n",
      "1       10.34  1.660000    Male     No  Sun  Dinner   3.0\n",
      "2       21.01  3.500000    Male     No  Sun  Dinner   3.0\n",
      "3       23.68  3.004664    Male     No  Sun  Dinner   2.0\n",
      "4       24.59  3.610000  Female     No  Sun  Dinner   4.0\n",
      "<class 'pandas.core.frame.DataFrame'>\n",
      "RangeIndex: 244 entries, 0 to 243\n",
      "Data columns (total 7 columns):\n",
      " #   Column      Non-Null Count  Dtype  \n",
      "---  ------      --------------  -----  \n",
      " 0   total_bill  238 non-null    float64\n",
      " 1   tip         244 non-null    float64\n",
      " 2   gender      241 non-null    object \n",
      " 3   smoker      240 non-null    object \n",
      " 4   day         234 non-null    object \n",
      " 5   time        242 non-null    object \n",
      " 6   size        240 non-null    float64\n",
      "dtypes: float64(3), object(4)\n",
      "memory usage: 13.5+ KB\n",
      "None\n"
     ]
    }
   ],
   "source": [
    "mean_value = tips['tip'].mean()\n",
    "print(mean_value)\n",
    "tips['tip'] = tips['tip'].fillna(mean_value)\n",
    "print(tips.head())\n",
    "print(tips.info())"
   ]
  },
  {
   "cell_type": "code",
   "execution_count": null,
   "id": "275c58f2-54d4-489f-9fbb-b97d7b9a21ff",
   "metadata": {},
   "outputs": [],
   "source": []
  }
 ],
 "metadata": {
  "kernelspec": {
   "display_name": "Python 3 (ipykernel)",
   "language": "python",
   "name": "python3"
  },
  "language_info": {
   "codemirror_mode": {
    "name": "ipython",
    "version": 3
   },
   "file_extension": ".py",
   "mimetype": "text/x-python",
   "name": "python",
   "nbconvert_exporter": "python",
   "pygments_lexer": "ipython3",
   "version": "3.9.12"
  }
 },
 "nbformat": 4,
 "nbformat_minor": 5
}
